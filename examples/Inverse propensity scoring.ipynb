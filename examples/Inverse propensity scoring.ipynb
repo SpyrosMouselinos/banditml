{
 "cells": [
  {
   "cell_type": "code",
   "execution_count": 1,
   "id": "314f14cc",
   "metadata": {},
   "outputs": [],
   "source": [
    "import os, sys\n",
    "\n",
    "nb_dir = os.path.split(os.getcwd())[0]\n",
    "if nb_dir not in sys.path:\n",
    "    sys.path.append(nb_dir)"
   ]
  },
  {
   "cell_type": "code",
   "execution_count": 2,
   "id": "1f8aeeb8",
   "metadata": {},
   "outputs": [],
   "source": [
    "from lib.methods import ips\n",
    "\n",
    "import pandas as pd"
   ]
  },
  {
   "cell_type": "markdown",
   "id": "23784f7e",
   "metadata": {},
   "source": [
    "### Example using IPS to offline evaluate a new fraud policy"
   ]
  },
  {
   "cell_type": "markdown",
   "id": "7852be47",
   "metadata": {},
   "source": [
    "#### 1 - Assume we have a fraud model in production that blocks transactions if the P(fraud) > 0.05"
   ]
  },
  {
   "cell_type": "markdown",
   "id": "ac18fdba",
   "metadata": {},
   "source": [
    "Let's build some sample logs from that policy running in production. One thing to note, we need some basic exploration in the production logs (e.g. epsilon-greedy w/ε = 0.1). That is, 10% of the time we take a random action. Rewards represent revenue gained from allowing the transaction. A negative reward indicates the transaction was fraud and resulted in a chargeback."
   ]
  },
  {
   "cell_type": "code",
   "execution_count": 3,
   "id": "8cd1717e",
   "metadata": {},
   "outputs": [
    {
     "data": {
      "text/html": [
       "<div>\n",
       "<style scoped>\n",
       "    .dataframe tbody tr th:only-of-type {\n",
       "        vertical-align: middle;\n",
       "    }\n",
       "\n",
       "    .dataframe tbody tr th {\n",
       "        vertical-align: top;\n",
       "    }\n",
       "\n",
       "    .dataframe thead th {\n",
       "        text-align: right;\n",
       "    }\n",
       "</style>\n",
       "<table border=\"1\" class=\"dataframe\">\n",
       "  <thead>\n",
       "    <tr style=\"text-align: right;\">\n",
       "      <th></th>\n",
       "      <th>id</th>\n",
       "      <th>context</th>\n",
       "      <th>action</th>\n",
       "      <th>action_prob</th>\n",
       "      <th>reward</th>\n",
       "    </tr>\n",
       "  </thead>\n",
       "  <tbody>\n",
       "    <tr>\n",
       "      <th>0</th>\n",
       "      <td>0</td>\n",
       "      <td>{'p_fraud': 0.08}</td>\n",
       "      <td>blocked</td>\n",
       "      <td>0.9</td>\n",
       "      <td>0</td>\n",
       "    </tr>\n",
       "    <tr>\n",
       "      <th>1</th>\n",
       "      <td>1</td>\n",
       "      <td>{'p_fraud': 0.03}</td>\n",
       "      <td>allowed</td>\n",
       "      <td>0.9</td>\n",
       "      <td>20</td>\n",
       "    </tr>\n",
       "    <tr>\n",
       "      <th>2</th>\n",
       "      <td>2</td>\n",
       "      <td>{'p_fraud': 0.01}</td>\n",
       "      <td>allowed</td>\n",
       "      <td>0.9</td>\n",
       "      <td>10</td>\n",
       "    </tr>\n",
       "    <tr>\n",
       "      <th>3</th>\n",
       "      <td>3</td>\n",
       "      <td>{'p_fraud': 0.09}</td>\n",
       "      <td>allowed</td>\n",
       "      <td>0.1</td>\n",
       "      <td>-20</td>\n",
       "    </tr>\n",
       "  </tbody>\n",
       "</table>\n",
       "</div>"
      ],
      "text/plain": [
       "   id            context   action  action_prob  reward\n",
       "0   0  {'p_fraud': 0.08}  blocked          0.9       0\n",
       "1   1  {'p_fraud': 0.03}  allowed          0.9      20\n",
       "2   2  {'p_fraud': 0.01}  allowed          0.9      10\n",
       "3   3  {'p_fraud': 0.09}  allowed          0.1     -20"
      ]
     },
     "execution_count": 3,
     "metadata": {},
     "output_type": "execute_result"
    }
   ],
   "source": [
    "logs_df = pd.DataFrame([\n",
    "    {\"id\": 0, \"context\": {\"p_fraud\": 0.08}, \"action\": \"blocked\", \"action_prob\": 0.90, \"reward\": 0},\n",
    "    {\"id\": 1, \"context\": {\"p_fraud\": 0.03}, \"action\": \"allowed\", \"action_prob\": 0.90, \"reward\": 20},\n",
    "    {\"id\": 2, \"context\": {\"p_fraud\": 0.01}, \"action\": \"allowed\", \"action_prob\": 0.90, \"reward\": 10},    \n",
    "    {\"id\": 3, \"context\": {\"p_fraud\": 0.09}, \"action\": \"allowed\", \"action_prob\": 0.10, \"reward\": -20}, # only allowed due to exploration \n",
    "])\n",
    "\n",
    "logs_df"
   ]
  },
  {
   "cell_type": "markdown",
   "id": "01ddd5bb",
   "metadata": {},
   "source": [
    "#### 2 - Now let's use IPS to score a more lenient fraud model that blocks transactions only if the P(fraud) > 0.10"
   ]
  },
  {
   "cell_type": "markdown",
   "id": "44f2963c",
   "metadata": {},
   "source": [
    "We will use the same production logs above and run them through the new policy."
   ]
  },
  {
   "cell_type": "code",
   "execution_count": 4,
   "id": "3a5b7675",
   "metadata": {},
   "outputs": [],
   "source": [
    "new_df = pd.DataFrame([\n",
    "    {\"id\": 0, \"new_action\": \"allowed\", \"new_action_prob\": 0.9}, # we don't know what would have happened here :(\n",
    "    {\"id\": 1, \"new_action\": \"allowed\", \"new_action_prob\": 0.9},\n",
    "    {\"id\": 2, \"new_action\": \"allowed\", \"new_action_prob\": 0.9},    \n",
    "    {\"id\": 3, \"new_action\": \"allowed\", \"new_action_prob\": 0.9},\n",
    "])"
   ]
  },
  {
   "cell_type": "markdown",
   "id": "68cabe9b",
   "metadata": {},
   "source": [
    "We see that the new policy lets through a fraud example (`id: 3`) at a much higher probability. This should make the new model get penalized in offline evaluation. We also see that for `id: 0`, the new model lets the transaction happen, but we don't have the counterfactual knowledge of whether or not this would have been a non-fraud transaction since in production this transaction was blocked. This demonstrates ones of the drawbacks of offline policy evaluation, but with more data we'd ideally see a different action taken in the same situation (due to exploration)."
   ]
  },
  {
   "cell_type": "markdown",
   "id": "3af7d494",
   "metadata": {},
   "source": [
    "#### 3 - Now we will score the new model using IPS"
   ]
  },
  {
   "cell_type": "code",
   "execution_count": 5,
   "id": "870b5f3a",
   "metadata": {},
   "outputs": [
    {
     "data": {
      "text/html": [
       "<div>\n",
       "<style scoped>\n",
       "    .dataframe tbody tr th:only-of-type {\n",
       "        vertical-align: middle;\n",
       "    }\n",
       "\n",
       "    .dataframe tbody tr th {\n",
       "        vertical-align: top;\n",
       "    }\n",
       "\n",
       "    .dataframe thead th {\n",
       "        text-align: right;\n",
       "    }\n",
       "</style>\n",
       "<table border=\"1\" class=\"dataframe\">\n",
       "  <thead>\n",
       "    <tr style=\"text-align: right;\">\n",
       "      <th></th>\n",
       "      <th>id</th>\n",
       "      <th>context</th>\n",
       "      <th>action</th>\n",
       "      <th>action_prob</th>\n",
       "      <th>reward</th>\n",
       "      <th>new_action</th>\n",
       "      <th>new_action_prob</th>\n",
       "    </tr>\n",
       "  </thead>\n",
       "  <tbody>\n",
       "    <tr>\n",
       "      <th>0</th>\n",
       "      <td>0</td>\n",
       "      <td>{'p_fraud': 0.08}</td>\n",
       "      <td>blocked</td>\n",
       "      <td>0.9</td>\n",
       "      <td>0</td>\n",
       "      <td>allowed</td>\n",
       "      <td>0.9</td>\n",
       "    </tr>\n",
       "    <tr>\n",
       "      <th>1</th>\n",
       "      <td>1</td>\n",
       "      <td>{'p_fraud': 0.03}</td>\n",
       "      <td>allowed</td>\n",
       "      <td>0.9</td>\n",
       "      <td>20</td>\n",
       "      <td>allowed</td>\n",
       "      <td>0.9</td>\n",
       "    </tr>\n",
       "    <tr>\n",
       "      <th>2</th>\n",
       "      <td>2</td>\n",
       "      <td>{'p_fraud': 0.01}</td>\n",
       "      <td>allowed</td>\n",
       "      <td>0.9</td>\n",
       "      <td>10</td>\n",
       "      <td>allowed</td>\n",
       "      <td>0.9</td>\n",
       "    </tr>\n",
       "    <tr>\n",
       "      <th>3</th>\n",
       "      <td>3</td>\n",
       "      <td>{'p_fraud': 0.09}</td>\n",
       "      <td>allowed</td>\n",
       "      <td>0.1</td>\n",
       "      <td>-20</td>\n",
       "      <td>allowed</td>\n",
       "      <td>0.9</td>\n",
       "    </tr>\n",
       "  </tbody>\n",
       "</table>\n",
       "</div>"
      ],
      "text/plain": [
       "   id            context   action  action_prob  reward new_action  \\\n",
       "0   0  {'p_fraud': 0.08}  blocked          0.9       0    allowed   \n",
       "1   1  {'p_fraud': 0.03}  allowed          0.9      20    allowed   \n",
       "2   2  {'p_fraud': 0.01}  allowed          0.9      10    allowed   \n",
       "3   3  {'p_fraud': 0.09}  allowed          0.1     -20    allowed   \n",
       "\n",
       "   new_action_prob  \n",
       "0              0.9  \n",
       "1              0.9  \n",
       "2              0.9  \n",
       "3              0.9  "
      ]
     },
     "execution_count": 5,
     "metadata": {},
     "output_type": "execute_result"
    }
   ],
   "source": [
    "df = logs_df.merge(new_df, left_on='id', right_on='id')\n",
    "df"
   ]
  },
  {
   "cell_type": "code",
   "execution_count": 6,
   "id": "732bab55",
   "metadata": {},
   "outputs": [],
   "source": [
    "results = ips.evaluate(df)"
   ]
  },
  {
   "cell_type": "code",
   "execution_count": 7,
   "id": "3cf3c8be",
   "metadata": {},
   "outputs": [
    {
     "name": "stdout",
     "output_type": "stream",
     "text": [
      "{'expected_reward_logging_policy': 2.5, 'expected_reward_new_policy': -37.5}\n"
     ]
    }
   ],
   "source": [
    "print(results)"
   ]
  },
  {
   "cell_type": "markdown",
   "id": "062ac2e2",
   "metadata": {},
   "source": [
    "The expected reward per observation for the new policy is much worse than the logging policy (due to the observation that allowed fraud to go through (`id: 3`) so we wouldn't roll out this new policy into an A/B test or production and instead should test some different policies offline."
   ]
  }
 ],
 "metadata": {
  "kernelspec": {
   "display_name": "Python 3",
   "language": "python",
   "name": "python3"
  },
  "language_info": {
   "codemirror_mode": {
    "name": "ipython",
    "version": 3
   },
   "file_extension": ".py",
   "mimetype": "text/x-python",
   "name": "python",
   "nbconvert_exporter": "python",
   "pygments_lexer": "ipython3",
   "version": "3.7.0"
  }
 },
 "nbformat": 4,
 "nbformat_minor": 5
}
